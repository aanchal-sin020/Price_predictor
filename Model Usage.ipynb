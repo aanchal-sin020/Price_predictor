{
 "cells": [
  {
   "cell_type": "code",
   "execution_count": 1,
   "id": "e9ae0b6a-8bfe-4c09-8149-a8408986aec8",
   "metadata": {},
   "outputs": [],
   "source": [
    "from joblib import dump, load\n",
    "import numpy as np\n",
    "model = load('Dragon.joblib')"
   ]
  },
  {
   "cell_type": "code",
   "execution_count": 3,
   "id": "6aec9daa-d49a-44cb-8451-fe432974f157",
   "metadata": {},
   "outputs": [
    {
     "data": {
      "text/plain": [
       "array([39.752, 30.119, 45.562, 55.47 , 40.556])"
      ]
     },
     "execution_count": 3,
     "metadata": {},
     "output_type": "execute_result"
    }
   ],
   "source": [
    "features = np.array([[-1.50892654, -0.52647856,  1.91112552, -0.50358142,  0.02657439,\n",
    "         0.36450366,  0.3557868 ],\n",
    "       [ 1.52092352,  1.54315307, -1.0261287 ,  0.68599747, -0.98836307,\n",
    "        -1.38907548,  1.34665405],\n",
    "       [ 0.58802691, -1.41397069, -1.57136751, -0.72559617,  0.70319937,\n",
    "        -1.01969097,  0.32873916],\n",
    "       [-1.15393048,  1.24850569, -0.82386269, -0.81004629,  0.36488688,\n",
    "        -0.17720709,  0.47585194],\n",
    "       [ 1.68603797,  0.36101356,  0.08193726, -0.57673763,  1.04151186,\n",
    "         0.81925349,  0.42241635]])\n",
    "\n",
    "model.predict(features)"
   ]
  },
  {
   "cell_type": "code",
   "execution_count": null,
   "id": "bb842aca-1e1d-450b-833b-9f9a4ea63ff5",
   "metadata": {},
   "outputs": [],
   "source": []
  }
 ],
 "metadata": {
  "kernelspec": {
   "display_name": "Python 3 (ipykernel)",
   "language": "python",
   "name": "python3"
  },
  "language_info": {
   "codemirror_mode": {
    "name": "ipython",
    "version": 3
   },
   "file_extension": ".py",
   "mimetype": "text/x-python",
   "name": "python",
   "nbconvert_exporter": "python",
   "pygments_lexer": "ipython3",
   "version": "3.12.4"
  }
 },
 "nbformat": 4,
 "nbformat_minor": 5
}
